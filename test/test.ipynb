{
 "cells": [
  {
   "cell_type": "markdown",
   "id": "01ab12ca",
   "metadata": {},
   "source": [
    "# Hello! This is a header\n",
    "\n",
    "## this is a smaller header\n",
    "some text\n",
    "more text"
   ]
  },
  {
   "cell_type": "markdown",
   "id": "2e437c5d",
   "metadata": {},
   "source": [
    "# THIS is a header!!!\n",
    "Lets try some python"
   ]
  },
  {
   "cell_type": "code",
   "execution_count": null,
   "id": "b851755d",
   "metadata": {},
   "outputs": [],
   "source": [
    "import matplotlib.pyplot as plt\n",
    "import numpy as np\n",
    "\n",
    "a = np.linspace(0,1,100)\n",
    "b = a**2.\n",
    "c = a**3.\n",
    "plt.plot(a, b)\n",
    "plt.plot(a, c)\n",
    "plt.plot(a, c**3.)\n",
    "plt.show()"
   ]
  }
 ],
 "metadata": {
  "kernelspec": {
   "display_name": "Python 3 (ipykernel)",
   "language": "python",
   "name": "python3"
  },
  "language_info": {
   "codemirror_mode": {
    "name": "ipython",
    "version": 3
   },
   "file_extension": ".py",
   "mimetype": "text/x-python",
   "name": "python",
   "nbconvert_exporter": "python",
   "pygments_lexer": "ipython3",
   "version": "3.9.5"
  }
 },
 "nbformat": 4,
 "nbformat_minor": 5
}
